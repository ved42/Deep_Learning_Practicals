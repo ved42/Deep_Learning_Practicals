{
  "nbformat": 4,
  "nbformat_minor": 0,
  "metadata": {
    "colab": {
      "provenance": []
    },
    "kernelspec": {
      "name": "python3",
      "display_name": "Python 3"
    },
    "language_info": {
      "name": "python"
    }
  },
  "cells": [
    {
      "cell_type": "code",
      "execution_count": 1,
      "metadata": {
        "id": "ze-YMKSXdkRL"
      },
      "outputs": [],
      "source": [
        "import keras\n",
        "from keras import layers"
      ]
    },
    {
      "cell_type": "markdown",
      "source": [
        "4. Use Autoencoder to implement anomaly detection. Build the model by using:\n",
        "\n",
        "a. Import required libraries\n",
        "\n",
        "b. Upload / access the dataset\n",
        "\n",
        "c. Encoder converts it into latent representation\n",
        "\n",
        "d. Decoder networks convert it back to the original input\n",
        "\n",
        "e. Compile the models with Optimizer, Loss, and Evaluation Metrics\n",
        "**********************************************************************\n",
        "## Autoencoder\n",
        "An autoencoder is a type of artificial neural network used in unsupervised learning and dimensionality reduction. It's designed to encode and then decode data, often used for tasks like data compression, denoising, and feature learning. Here's how it works:\n",
        "\n",
        "* Encoder: The first part of the autoencoder, called the encoder, takes input data and compresses it into a lower-dimensional representation. This lower-dimensional representation is sometimes referred to as the \"encoding\" or \"latent space.\" The encoder consists of one or more layers of neurons that learn to capture the most important features or patterns in the input data.\n",
        "\n",
        "* Decoder: The second part of the autoencoder, called the decoder, takes the encoded representation and attempts to reconstruct the original data from it. Like the encoder, the decoder consists of one or more layers that learn to convert the encoded data back into the original format.\n",
        "\n",
        "The goal of an autoencoder is to learn a compact representation of the input data in the encoding step and then learn to reconstruct the original data from this compact representation in the decoding step. During training, the autoencoder's parameters (weights) are adjusted to minimize the difference between the input data and the reconstructed data."
      ],
      "metadata": {
        "id": "wC9YoIJ-ovET"
      }
    },
    {
      "cell_type": "code",
      "source": [
        "# This is the size of our encoded representations\n",
        "encoding_dim = 32  # 32 floats -> compression of factor 24.5, assuming the input is 784 floats\n"
      ],
      "metadata": {
        "id": "uzB-ZyHd7Hfg"
      },
      "execution_count": 2,
      "outputs": []
    },
    {
      "cell_type": "code",
      "source": [
        "# This is our input image\n",
        "input_img = keras.Input(shape=(784,))"
      ],
      "metadata": {
        "id": "qgONlFVW7YfN"
      },
      "execution_count": 3,
      "outputs": []
    },
    {
      "cell_type": "markdown",
      "source": [
        "So, the purpose of this line is to create a dense layer with encoding_dim neurons, using the ReLU activation function, and connect it to the input_img, forming a part of a neural network model."
      ],
      "metadata": {
        "id": "Me7uaBw3AULs"
      }
    },
    {
      "cell_type": "code",
      "source": [
        "# \"encoded\" is the encoded representation of the input\n",
        "encoded = layers.Dense(encoding_dim, activation='relu')(input_img)"
      ],
      "metadata": {
        "id": "v8qKMuZn7fbj"
      },
      "execution_count": 4,
      "outputs": []
    },
    {
      "cell_type": "markdown",
      "source": [
        "So, the purpose of this line is to create a dense layer with 784 neurons, using the sigmoid activation function, and connect it to the encoded layer. This is commonly used in autoencoders to decode the reduced-dimensional representation (encoding) back into the original data space, such as image reconstruction."
      ],
      "metadata": {
        "id": "lp9-flWxA5jm"
      }
    },
    {
      "cell_type": "code",
      "source": [
        "# \"decoded\" is the lossy reconstruction of the input\n",
        "decoded = layers.Dense(784, activation='sigmoid')(encoded)"
      ],
      "metadata": {
        "id": "2JZor6he7ifj"
      },
      "execution_count": 5,
      "outputs": []
    },
    {
      "cell_type": "markdown",
      "source": [
        "In summary, autoencoder = keras.Model(input_img, decoded) is used to create a Keras model that defines the architecture of your autoencoder, allowing you to train, evaluate, and use it for various tasks related to encoding and decoding data."
      ],
      "metadata": {
        "id": "StDwC4zMBja9"
      }
    },
    {
      "cell_type": "code",
      "source": [
        "# This model maps an input to its reconstruction\n",
        "autoencoder = keras.Model(input_img, decoded)\n",
        "autoencoder.layers"
      ],
      "metadata": {
        "id": "Svlykj7U7kiN",
        "colab": {
          "base_uri": "https://localhost:8080/"
        },
        "outputId": "838fcff5-56da-456a-e32b-682343bb9056"
      },
      "execution_count": 6,
      "outputs": [
        {
          "output_type": "execute_result",
          "data": {
            "text/plain": [
              "[<keras.src.engine.input_layer.InputLayer at 0x78de0e5ffb80>,\n",
              " <keras.src.layers.core.dense.Dense at 0x78de0e62a0b0>,\n",
              " <keras.src.layers.core.dense.Dense at 0x78de0e62bc70>]"
            ]
          },
          "metadata": {},
          "execution_count": 6
        }
      ]
    },
    {
      "cell_type": "markdown",
      "source": [
        "In simpler words, this model is used to extract a compressed, simplified representation of your input data. It's like creating a \"data compressor\" that can take in your data and reduce it to a more compact form, which can be useful for tasks like data compression, feature extraction, or dimensionality reduction."
      ],
      "metadata": {
        "id": "Js9fjOv4B43-"
      }
    },
    {
      "cell_type": "code",
      "source": [
        "# This model maps an input to its encoded representation\n",
        "encoder = keras.Model(input_img, encoded)"
      ],
      "metadata": {
        "id": "ASgHzt0A7r_4"
      },
      "execution_count": 7,
      "outputs": []
    },
    {
      "cell_type": "markdown",
      "source": [
        "The line encoded_input = keras.Input(shape=(encoding_dim,)) creates an input layer for your neural network model with a specific shape."
      ],
      "metadata": {
        "id": "6J0yMJZ0CHaH"
      }
    },
    {
      "cell_type": "code",
      "source": [
        "# This is our encoded (32-dimensional) input\n",
        "encoded_input = keras.Input(shape=(encoding_dim,))"
      ],
      "metadata": {
        "id": "REAj-iZ87vor"
      },
      "execution_count": 8,
      "outputs": []
    },
    {
      "cell_type": "code",
      "source": [
        "# Retrieve the last layer of the autoencoder model (output layer)\n",
        "decoder_layer = autoencoder.layers[-1]\n"
      ],
      "metadata": {
        "id": "crLLf1OY7yUz"
      },
      "execution_count": 9,
      "outputs": []
    },
    {
      "cell_type": "code",
      "source": [
        "# Create the decoder model\n",
        "decoder = keras.Model(encoded_input, decoder_layer(encoded_input))"
      ],
      "metadata": {
        "id": "pneNqYeN754u"
      },
      "execution_count": 10,
      "outputs": []
    },
    {
      "cell_type": "markdown",
      "source": [
        "Now let's train our autoencoder to reconstruct MNIST digits.\n",
        "\n",
        "First, we'll configure our model to use a per-pixel binary crossentropy loss, and the Adam optimizer:"
      ],
      "metadata": {
        "id": "1YyW3mla8CoM"
      }
    },
    {
      "cell_type": "markdown",
      "source": [
        "The binary_crossentropy function is typically used in the context of binary classification tasks in machine learning and deep learning. In simple words, it's a way to measure how well a model is performing when it needs to decide between two choices, often denoted as \"0\" and \"1,\" \"yes\" and \"no,\" or \"positive\" and \"negative.\""
      ],
      "metadata": {
        "id": "FvpHKkA_tlkJ"
      }
    },
    {
      "cell_type": "code",
      "source": [
        "autoencoder.compile(optimizer='adam', loss='binary_crossentropy')"
      ],
      "metadata": {
        "id": "fQU9TQtG79Hz"
      },
      "execution_count": 11,
      "outputs": []
    },
    {
      "cell_type": "markdown",
      "source": [
        "Let's prepare our input data. We're using MNIST digits, and we're discarding the labels (since we're only interested in encoding/decoding the input images)."
      ],
      "metadata": {
        "id": "TA0TdIr38K5o"
      }
    },
    {
      "cell_type": "code",
      "source": [
        "from keras.datasets import mnist\n",
        "import numpy as np\n",
        "(x_train, _), (x_test, _) = mnist.load_data()"
      ],
      "metadata": {
        "id": "xaraJxlY8HJ5",
        "colab": {
          "base_uri": "https://localhost:8080/"
        },
        "outputId": "1e91d7d0-46b2-4ed4-aed4-ac6ee497696a"
      },
      "execution_count": 12,
      "outputs": [
        {
          "output_type": "stream",
          "name": "stdout",
          "text": [
            "Downloading data from https://storage.googleapis.com/tensorflow/tf-keras-datasets/mnist.npz\n",
            "11490434/11490434 [==============================] - 0s 0us/step\n"
          ]
        }
      ]
    },
    {
      "cell_type": "markdown",
      "source": [
        "We will normalize all values between 0 and 1 and we will flatten the 28x28 images into vectors of size 784."
      ],
      "metadata": {
        "id": "1S-SFn5H8Xs9"
      }
    },
    {
      "cell_type": "code",
      "source": [
        "x_train = x_train.astype('float32') / 255.\n",
        "x_test = x_test.astype('float32') / 255.\n",
        "x_train = x_train.reshape((len(x_train), np.prod(x_train.shape[1:])))\n",
        "x_test = x_test.reshape((len(x_test), np.prod(x_test.shape[1:])))\n",
        "print(x_train.shape)\n",
        "print(x_test.shape)"
      ],
      "metadata": {
        "colab": {
          "base_uri": "https://localhost:8080/"
        },
        "id": "WX7hSyjZ8Ti3",
        "outputId": "f1ca99e1-d0f1-4da4-e49a-a1494a4a0493"
      },
      "execution_count": 13,
      "outputs": [
        {
          "output_type": "stream",
          "name": "stdout",
          "text": [
            "(60000, 784)\n",
            "(10000, 784)\n"
          ]
        }
      ]
    },
    {
      "cell_type": "markdown",
      "source": [
        "Now let's train our autoencoder for 50 epochs:"
      ],
      "metadata": {
        "id": "1r0YFZqb8ehN"
      }
    },
    {
      "cell_type": "code",
      "source": [
        "autoencoder.fit(x_train, x_train,\n",
        "                epochs=40,\n",
        "                batch_size=256,\n",
        "                shuffle=True,\n",
        "                validation_data=(x_test, x_test))\n"
      ],
      "metadata": {
        "colab": {
          "base_uri": "https://localhost:8080/"
        },
        "id": "mapDxaGQ8bJB",
        "outputId": "96222ea1-59e6-4f2c-8f69-e62a0eef3cb3"
      },
      "execution_count": 14,
      "outputs": [
        {
          "output_type": "stream",
          "name": "stdout",
          "text": [
            "Epoch 1/40\n",
            "235/235 [==============================] - 4s 15ms/step - loss: 0.2762 - val_loss: 0.1887\n",
            "Epoch 2/40\n",
            "235/235 [==============================] - 3s 12ms/step - loss: 0.1708 - val_loss: 0.1537\n",
            "Epoch 3/40\n",
            "235/235 [==============================] - 3s 11ms/step - loss: 0.1444 - val_loss: 0.1335\n",
            "Epoch 4/40\n",
            "235/235 [==============================] - 3s 11ms/step - loss: 0.1285 - val_loss: 0.1216\n",
            "Epoch 5/40\n",
            "235/235 [==============================] - 3s 11ms/step - loss: 0.1188 - val_loss: 0.1138\n",
            "Epoch 6/40\n",
            "235/235 [==============================] - 3s 15ms/step - loss: 0.1120 - val_loss: 0.1083\n",
            "Epoch 7/40\n",
            "235/235 [==============================] - 3s 11ms/step - loss: 0.1069 - val_loss: 0.1036\n",
            "Epoch 8/40\n",
            "235/235 [==============================] - 3s 11ms/step - loss: 0.1030 - val_loss: 0.1002\n",
            "Epoch 9/40\n",
            "235/235 [==============================] - 3s 11ms/step - loss: 0.1000 - val_loss: 0.0976\n",
            "Epoch 10/40\n",
            "235/235 [==============================] - 3s 14ms/step - loss: 0.0978 - val_loss: 0.0957\n",
            "Epoch 11/40\n",
            "235/235 [==============================] - 3s 12ms/step - loss: 0.0963 - val_loss: 0.0947\n",
            "Epoch 12/40\n",
            "235/235 [==============================] - 3s 11ms/step - loss: 0.0954 - val_loss: 0.0938\n",
            "Epoch 13/40\n",
            "235/235 [==============================] - 3s 11ms/step - loss: 0.0947 - val_loss: 0.0934\n",
            "Epoch 14/40\n",
            "235/235 [==============================] - 3s 11ms/step - loss: 0.0943 - val_loss: 0.0930\n",
            "Epoch 15/40\n",
            "235/235 [==============================] - 4s 15ms/step - loss: 0.0940 - val_loss: 0.0927\n",
            "Epoch 16/40\n",
            "235/235 [==============================] - 2s 11ms/step - loss: 0.0938 - val_loss: 0.0925\n",
            "Epoch 17/40\n",
            "235/235 [==============================] - 2s 10ms/step - loss: 0.0937 - val_loss: 0.0924\n",
            "Epoch 18/40\n",
            "235/235 [==============================] - 2s 10ms/step - loss: 0.0935 - val_loss: 0.0923\n",
            "Epoch 19/40\n",
            "235/235 [==============================] - 3s 12ms/step - loss: 0.0934 - val_loss: 0.0922\n",
            "Epoch 20/40\n",
            "235/235 [==============================] - 3s 13ms/step - loss: 0.0933 - val_loss: 0.0921\n",
            "Epoch 21/40\n",
            "235/235 [==============================] - 3s 11ms/step - loss: 0.0933 - val_loss: 0.0921\n",
            "Epoch 22/40\n",
            "235/235 [==============================] - 3s 11ms/step - loss: 0.0932 - val_loss: 0.0920\n",
            "Epoch 23/40\n",
            "235/235 [==============================] - 2s 11ms/step - loss: 0.0932 - val_loss: 0.0920\n",
            "Epoch 24/40\n",
            "235/235 [==============================] - 3s 13ms/step - loss: 0.0931 - val_loss: 0.0919\n",
            "Epoch 25/40\n",
            "235/235 [==============================] - 3s 12ms/step - loss: 0.0930 - val_loss: 0.0919\n",
            "Epoch 26/40\n",
            "235/235 [==============================] - 3s 11ms/step - loss: 0.0930 - val_loss: 0.0919\n",
            "Epoch 27/40\n",
            "235/235 [==============================] - 3s 11ms/step - loss: 0.0930 - val_loss: 0.0918\n",
            "Epoch 28/40\n",
            "235/235 [==============================] - 3s 11ms/step - loss: 0.0929 - val_loss: 0.0918\n",
            "Epoch 29/40\n",
            "235/235 [==============================] - 3s 15ms/step - loss: 0.0929 - val_loss: 0.0917\n",
            "Epoch 30/40\n",
            "235/235 [==============================] - 3s 11ms/step - loss: 0.0929 - val_loss: 0.0917\n",
            "Epoch 31/40\n",
            "235/235 [==============================] - 3s 11ms/step - loss: 0.0929 - val_loss: 0.0918\n",
            "Epoch 32/40\n",
            "235/235 [==============================] - 3s 11ms/step - loss: 0.0928 - val_loss: 0.0917\n",
            "Epoch 33/40\n",
            "235/235 [==============================] - 3s 13ms/step - loss: 0.0928 - val_loss: 0.0917\n",
            "Epoch 34/40\n",
            "235/235 [==============================] - 3s 12ms/step - loss: 0.0928 - val_loss: 0.0917\n",
            "Epoch 35/40\n",
            "235/235 [==============================] - 3s 11ms/step - loss: 0.0928 - val_loss: 0.0917\n",
            "Epoch 36/40\n",
            "235/235 [==============================] - 3s 11ms/step - loss: 0.0928 - val_loss: 0.0917\n",
            "Epoch 37/40\n",
            "235/235 [==============================] - 3s 11ms/step - loss: 0.0927 - val_loss: 0.0916\n",
            "Epoch 38/40\n",
            "235/235 [==============================] - 3s 15ms/step - loss: 0.0927 - val_loss: 0.0916\n",
            "Epoch 39/40\n",
            "235/235 [==============================] - 3s 11ms/step - loss: 0.0927 - val_loss: 0.0916\n",
            "Epoch 40/40\n",
            "235/235 [==============================] - 3s 11ms/step - loss: 0.0927 - val_loss: 0.0916\n"
          ]
        },
        {
          "output_type": "execute_result",
          "data": {
            "text/plain": [
              "<keras.src.callbacks.History at 0x78de0c1d9510>"
            ]
          },
          "metadata": {},
          "execution_count": 14
        }
      ]
    },
    {
      "cell_type": "markdown",
      "source": [
        "After 40 epochs, the autoencoder seems to reach a stable train/validation loss value of about 0.09. We can try to visualize the reconstructed inputs and the encoded representations. We will use Matplotlib."
      ],
      "metadata": {
        "id": "KUJ03PKjHcRQ"
      }
    },
    {
      "cell_type": "markdown",
      "source": [
        "\n",
        "In short, an 'encoder' is a component in machine learning used to convert input data (e.g., text, images, or numerical values) into a different representation, typically a numerical one. It's often used in various tasks like data compression, feature extraction, and creating embeddings for downstream applications.\n",
        "\n",
        "In short, a 'decoder' is a component in machine learning used to convert a hidden representation or encoded data back into a more understandable or original format. It's commonly used in tasks like language translation, image generation, and sequence-to-sequence tasks."
      ],
      "metadata": {
        "id": "G5hcBjeibZ2h"
      }
    },
    {
      "cell_type": "code",
      "source": [
        "# Encode and decode some digits\n",
        "# Note that we take them from the *test* set\n",
        "encoded_imgs = encoder.predict(x_test)\n",
        "decoded_imgs = decoder.predict(encoded_imgs)"
      ],
      "metadata": {
        "colab": {
          "base_uri": "https://localhost:8080/"
        },
        "id": "Xiixrftp8izg",
        "outputId": "0cf4684e-8e75-4dec-fd59-a2b360cb55a1"
      },
      "execution_count": 15,
      "outputs": [
        {
          "output_type": "stream",
          "name": "stdout",
          "text": [
            "313/313 [==============================] - 1s 2ms/step\n",
            "313/313 [==============================] - 1s 2ms/step\n"
          ]
        }
      ]
    },
    {
      "cell_type": "code",
      "source": [
        "# Use Matplotlib (don't ask)\n",
        "import matplotlib.pyplot as plt\n",
        "\n",
        "n = 10  # How many digits we will display\n",
        "plt.figure(figsize=(20, 4))\n",
        "for i in range(n):\n",
        "    # Display original\n",
        "    ax = plt.subplot(2, n, i + 1)\n",
        "    plt.imshow(x_test[i].reshape(28, 28))\n",
        "    plt.gray()\n",
        "    ax.get_xaxis().set_visible(False)\n",
        "    ax.get_yaxis().set_visible(False)\n",
        "\n",
        "    # Display reconstruction\n",
        "    ax = plt.subplot(2, n, i + 1 + n)\n",
        "    plt.imshow(decoded_imgs[i].reshape(28, 28))\n",
        "    plt.gray()\n",
        "    ax.get_xaxis().set_visible(False)\n",
        "    ax.get_yaxis().set_visible(False)\n",
        "plt.show()"
      ],
      "metadata": {
        "colab": {
          "base_uri": "https://localhost:8080/",
          "height": 336
        },
        "id": "1xB742uUHf8V",
        "outputId": "8adbabb6-e530-471d-c48e-b07e7384e3ae"
      },
      "execution_count": 16,
      "outputs": [
        {
          "output_type": "display_data",
          "data": {
            "text/plain": [
              "<Figure size 2000x400 with 20 Axes>"
            ],
            "image/png": "[encoded data removed]"
          },
          "metadata": {}
        }
      ]
    },
    {
      "cell_type": "markdown",
      "source": [
        "Here's what we get. The top row is the original digits, and the bottom row is the reconstructed digits. We are losing quite a bit of detail with this basic approach."
      ],
      "metadata": {
        "id": "tA8o6V3lHqkF"
      }
    },
    {
      "cell_type": "code",
      "source": [],
      "metadata": {
        "id": "lgxgkwPiHkEt"
      },
      "execution_count": null,
      "outputs": []
    },
    {
      "cell_type": "code",
      "source": [],
      "metadata": {
        "id": "TdN-lnAOH9FF"
      },
      "execution_count": null,
      "outputs": []
    }
  ]
}